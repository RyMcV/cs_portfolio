{
 "cells": [
  {
   "cell_type": "markdown",
   "metadata": {},
   "source": [
    "# Developing an AI application\n",
    "\n",
    "Going forward, AI algorithms will be incorporated into more and more everyday applications. For example, you might want to include an image classifier in a smart phone app. To do this, you'd use a deep learning model trained on hundreds of thousands of images as part of the overall application architecture. A large part of software development in the future will be using these types of models as common parts of applications. \n",
    "\n",
    "In this project, you'll train an image classifier to recognize different species of flowers. You can imagine using something like this in a phone app that tells you the name of the flower your camera is looking at. In practice you'd train this classifier, then export it for use in your application. We'll be using [this dataset](http://www.robots.ox.ac.uk/~vgg/data/flowers/102/index.html) of 102 flower categories, you can see a few examples below. \n",
    "\n",
    "<img src='assets/Flowers.png' width=500px>\n",
    "\n",
    "The project is broken down into multiple steps:\n",
    "\n",
    "* Load and preprocess the image dataset\n",
    "* Train the image classifier on your dataset\n",
    "* Use the trained classifier to predict image content\n",
    "\n",
    "We'll lead you through each part which you'll implement in Python.\n",
    "\n",
    "When you've completed this project, you'll have an application that can be trained on any set of labeled images. Here your network will be learning about flowers and end up as a command line application. But, what you do with your new skills depends on your imagination and effort in building a dataset. For example, imagine an app where you take a picture of a car, it tells you what the make and model is, then looks up information about it. Go build your own dataset and make something new.\n",
    "\n",
    "First up is importing the packages you'll need. It's good practice to keep all the imports at the beginning of your code. As you work through this notebook and find you need to import a package, make sure to add the import up here."
   ]
  },
  {
   "cell_type": "code",
   "execution_count": 33,
   "metadata": {},
   "outputs": [],
   "source": [
    "import torch\n",
    "import torch.nn as nn\n",
    "import torch.optim as optim\n",
    "import torch.cuda as cuda\n",
    "from torch.autograd import Variable\n",
    "import numpy as np\n",
    "import torchvision\n",
    "from torchvision import datasets, models, transforms\n",
    "import matplotlib.pyplot as plt\n",
    "import time\n",
    "import os\n",
    "import copy\n",
    "from PIL import Image\n",
    "import json\n",
    "from collections import OrderedDict"
   ]
  },
  {
   "cell_type": "markdown",
   "metadata": {},
   "source": [
    "## Load the data\n",
    "\n",
    "Here you'll use `torchvision` to load the data ([documentation](http://pytorch.org/docs/0.3.0/torchvision/index.html)). The data should be included alongside this notebook, otherwise you can [download it here](https://s3.amazonaws.com/content.udacity-data.com/nd089/flower_data.tar.gz). The dataset is split into three parts, training, validation, and testing. For the training, you'll want to apply transformations such as random scaling, cropping, and flipping. This will help the network generalize leading to better performance. You'll also need to make sure the input data is resized to 224x224 pixels as required by the pre-trained networks.\n",
    "\n",
    "The validation and testing sets are used to measure the model's performance on data it hasn't seen yet. For this you don't want any scaling or rotation transformations, but you'll need to resize then crop the images to the appropriate size.\n",
    "\n",
    "The pre-trained networks you'll use were trained on the ImageNet dataset where each color channel was normalized separately. For all three sets you'll need to normalize the means and standard deviations of the images to what the network expects. For the means, it's `[0.485, 0.456, 0.406]` and for the standard deviations `[0.229, 0.224, 0.225]`, calculated from the ImageNet images.  These values will shift each color channel to be centered at 0 and range from -1 to 1.\n",
    " "
   ]
  },
  {
   "cell_type": "code",
   "execution_count": 34,
   "metadata": {},
   "outputs": [],
   "source": [
    "data_dir = 'flowers'\n",
    "train_dir = data_dir + '/train'\n",
    "valid_dir = data_dir + '/valid'\n",
    "test_dir = data_dir + '/test'"
   ]
  },
  {
   "cell_type": "code",
   "execution_count": 35,
   "metadata": {},
   "outputs": [],
   "source": [
    "# Define your transforms for the training, validation, and testing sets\n",
    "train_transforms = transforms.Compose([transforms.RandomRotation(30),\n",
    "                                       transforms.RandomResizedCrop(224),\n",
    "                                       transforms.RandomHorizontalFlip(),\n",
    "                                       transforms.ToTensor(),\n",
    "                                       transforms.Normalize([0.485, 0.456, 0.406],\n",
    "                                                            [0.229, 0.224, 0.225])])\n",
    "\n",
    "valid_transforms = transforms.Compose([transforms.Resize(256),\n",
    "                                      transforms.CenterCrop(224),\n",
    "                                      transforms.ToTensor(),\n",
    "                                      transforms.Normalize([0.485, 0.456, 0.406],\n",
    "                                                           [0.229, 0.224, 0.225])])\n",
    "\n",
    "test_transforms = transforms.Compose([transforms.Resize(256),\n",
    "                                      transforms.CenterCrop(224),\n",
    "                                      transforms.ToTensor(),\n",
    "                                      transforms.Normalize([0.485, 0.456, 0.406],\n",
    "                                                           [0.229, 0.224, 0.225])])\n",
    "\n",
    "# Load the datasets with ImageFolder\n",
    "train_data = datasets.ImageFolder(train_dir, transform=train_transforms)\n",
    "valid_data = datasets.ImageFolder(valid_dir, transform=valid_transforms)\n",
    "test_data = datasets.ImageFolder(test_dir, transform=test_transforms)\n",
    "\n",
    "# Using the image datasets and the trainforms, define the dataloaders\n",
    "trainloader = torch.utils.data.DataLoader(train_data, batch_size=64, shuffle=True)\n",
    "validloader = torch.utils.data.DataLoader(valid_data, batch_size=32)\n",
    "testloader = torch.utils.data.DataLoader(test_data, batch_size=32)"
   ]
  },
  {
   "cell_type": "markdown",
   "metadata": {},
   "source": [
    "### Label mapping\n",
    "\n",
    "You'll also need to load in a mapping from category label to category name. You can find this in the file `cat_to_name.json`. It's a JSON object which you can read in with the [`json` module](https://docs.python.org/2/library/json.html). This will give you a dictionary mapping the integer encoded categories to the actual names of the flowers."
   ]
  },
  {
   "cell_type": "code",
   "execution_count": 36,
   "metadata": {},
   "outputs": [
    {
     "name": "stdout",
     "output_type": "stream",
     "text": [
      "fire lily\n"
     ]
    }
   ],
   "source": [
    "with open('cat_to_name.json', 'r') as f:\n",
    "    cat_to_name = json.load(f)\n",
    "    \n",
    "    print(cat_to_name['21'])"
   ]
  },
  {
   "cell_type": "markdown",
   "metadata": {},
   "source": [
    "# Building and training the classifier\n",
    "\n",
    "Now that the data is ready, it's time to build and train the classifier. As usual, you should use one of the pretrained models from `torchvision.models` to get the image features. Build and train a new feed-forward classifier using those features.\n",
    "\n",
    "We're going to leave this part up to you. If you want to talk through it with someone, chat with your fellow students! You can also ask questions on the forums or join the instructors in office hours.\n",
    "\n",
    "Refer to [the rubric](https://review.udacity.com/#!/rubrics/1663/view) for guidance on successfully completing this section. Things you'll need to do:\n",
    "\n",
    "* Load a [pre-trained network](http://pytorch.org/docs/master/torchvision/models.html) (If you need a starting point, the VGG networks work great and are straightforward to use)\n",
    "* Define a new, untrained feed-forward network as a classifier, using ReLU activations and dropout\n",
    "* Train the classifier layers using backpropagation using the pre-trained network to get the features\n",
    "* Track the loss and accuracy on the validation set to determine the best hyperparameters\n",
    "\n",
    "We've left a cell open for you below, but use as many as you need. Our advice is to break the problem up into smaller parts you can run separately. Check that each part is doing what you expect, then move on to the next. You'll likely find that as you work through each part, you'll need to go back and modify your previous code. This is totally normal!\n",
    "\n",
    "When training make sure you're updating only the weights of the feed-forward network. You should be able to get the validation accuracy above 70% if you build everything right. Make sure to try different hyperparameters (learning rate, units in the classifier, epochs, etc) to find the best model. Save those hyperparameters to use as default values in the next part of the project."
   ]
  },
  {
   "cell_type": "code",
   "execution_count": 37,
   "metadata": {},
   "outputs": [],
   "source": [
    "model = models.vgg16(pretrained=True)"
   ]
  },
  {
   "cell_type": "code",
   "execution_count": 38,
   "metadata": {},
   "outputs": [],
   "source": [
    "# Freeze parameters so we don't backprop through them\n",
    "for param in model.parameters():\n",
    "    param.requires_grad = False"
   ]
  },
  {
   "cell_type": "code",
   "execution_count": 39,
   "metadata": {},
   "outputs": [],
   "source": [
    "drop_rate = 0.5\n",
    "learning_rate = 0.001\n",
    "epochs = 2\n",
    "steps = 0\n",
    "running_loss = 0\n",
    "print_every = 30\n",
    "hidden_units = 4096"
   ]
  },
  {
   "cell_type": "code",
   "execution_count": 40,
   "metadata": {},
   "outputs": [],
   "source": [
    "classifier = nn.Sequential(OrderedDict([\n",
    "                         ('fc1', nn.Linear(25088, 4096)),\n",
    "                         ('relu1', nn.ReLU(inplace = True)),\n",
    "                         ('dropout1', nn.Dropout(p=drop_rate)),\n",
    "                         ('fc2', nn.Linear(4096, hidden_units)),\n",
    "                         ('relu2', nn.ReLU(inplace = True)),\n",
    "                         ('dropout2', nn.Dropout(p=drop_rate)),\n",
    "                         ('fc3', nn.Linear(hidden_units, 102)),\n",
    "                         ('dropout', nn.Dropout(p=drop_rate)),\n",
    "                         ('output', nn.LogSoftmax(dim=1))\n",
    "                         ]))\n",
    "\n",
    "model.classifier = classifier"
   ]
  },
  {
   "cell_type": "code",
   "execution_count": 41,
   "metadata": {},
   "outputs": [],
   "source": [
    "criterion = nn.NLLLoss()\n",
    "\n",
    "# Only train the classifier parameters, feature parameters are frozen\n",
    "optimizer = optim.Adam(model.classifier.parameters(), lr=learning_rate)"
   ]
  },
  {
   "cell_type": "code",
   "execution_count": 42,
   "metadata": {},
   "outputs": [
    {
     "name": "stderr",
     "output_type": "stream",
     "text": [
      "/opt/conda/lib/python3.6/site-packages/ipykernel_launcher.py:36: UserWarning: invalid index of a 0-dim tensor. This will be an error in PyTorch 0.5. Use tensor.item() to convert a 0-dim tensor to a Python number\n",
      "/opt/conda/lib/python3.6/site-packages/ipykernel_launcher.py:59: UserWarning: invalid index of a 0-dim tensor. This will be an error in PyTorch 0.5. Use tensor.item() to convert a 0-dim tensor to a Python number\n"
     ]
    },
    {
     "name": "stdout",
     "output_type": "stream",
     "text": [
      "Train Epoch: 1/2..  Training Loss: 4.493..  Validation Loss: 2.846..  Validation Accuracy: 0.339\n",
      "Train Epoch: 1/2..  Training Loss: 2.820..  Validation Loss: 1.843..  Validation Accuracy: 0.503\n",
      "Train Epoch: 1/2..  Training Loss: 2.454..  Validation Loss: 1.479..  Validation Accuracy: 0.616\n",
      "Train Epoch: 2/2..  Training Loss: 2.167..  Validation Loss: 1.293..  Validation Accuracy: 0.642\n",
      "Train Epoch: 2/2..  Training Loss: 1.922..  Validation Loss: 1.111..  Validation Accuracy: 0.681\n",
      "Train Epoch: 2/2..  Training Loss: 1.976..  Validation Loss: 1.022..  Validation Accuracy: 0.718\n",
      "step complete\n"
     ]
    }
   ],
   "source": [
    "# Use GPU\n",
    "model.cuda()\n",
    "    \n",
    "for e in range(epochs):\n",
    "    # Model in training mode, dropout is on\n",
    "    model.train()\n",
    "\n",
    "    for images, labels in iter(trainloader):\n",
    "        # Wrap images and labels in Variables so we can calculate gradients\n",
    "        images = Variable(images)\n",
    "        labels = Variable(labels)\n",
    "        \n",
    "        # Load images and labels to GPU\n",
    "        images = images.cuda()\n",
    "        labels = labels.cuda()\n",
    "        \n",
    "        # Clear the gradients from all Variables\n",
    "        optimizer.zero_grad()\n",
    "\n",
    "        # Run FeedFordward on training dataset, resulting in outputs\n",
    "        output = model.forward(images)\n",
    "\n",
    "        # Calculate losses, diff of outputs and labels\n",
    "        loss = criterion(output, labels)\n",
    "\n",
    "        # Run Backpropogation from losses\n",
    "        loss.backward()\n",
    "\n",
    "        # Update weights from backpropogation\n",
    "        optimizer.step()\n",
    "\n",
    "        # Track steps to determine when to run evaluation\n",
    "        steps += 1\n",
    "\n",
    "        # Track training loss to print info during evaluation\n",
    "        running_loss += loss.data[0]\n",
    "\n",
    "        if steps % print_every == 0:\n",
    "            # Model in inference mode, dropout is off\n",
    "            model.eval()\n",
    "\n",
    "            accuracy = 0\n",
    "            valid_loss = 0\n",
    "\n",
    "            # iterate thru validation dataset\n",
    "            for ii, (images, labels) in enumerate(validloader):\n",
    "                # Volatile no longer working on PyTorch 0.4\n",
    "                images = Variable(images)\n",
    "                labels = Variable(labels)\n",
    "                \n",
    "                # Load to GPU if available\n",
    "                if cuda:\n",
    "                    images = images.cuda()\n",
    "                    labels = labels.cuda()\n",
    "                else:\n",
    "                    images = images.cpu()\n",
    "                    labels = labels.cpu()\n",
    "                \n",
    "                # Run FeedFordward on validation dataset, resulting in outputs\n",
    "                output = model.forward(images)\n",
    "\n",
    "                # Calculate validation losses, diff of outputs and labels\n",
    "                valid_loss += criterion(output, labels).data[0]\n",
    "\n",
    "                # Model's output is log-softmax, take exp to get the prob's\n",
    "                ps = torch.exp(output).data\n",
    "\n",
    "                # Class with highest probability is our predicted class,\n",
    "                # compare with true label, results in boolean integer\n",
    "                equality = (labels.data == ps.max(1)[1])\n",
    "\n",
    "                # Accuracy is number of correct predictions divided by all\n",
    "                # predictions, just take the mean, first float boolean integer\n",
    "                accuracy += equality.type_as(torch.FloatTensor()).mean()\n",
    "\n",
    "            print(\"Train Epoch: {}/{}.. \".format(e+1, epochs),\n",
    "                  \"Training Loss: {:.3f}.. \".format(running_loss/print_every),\n",
    "                  \"Validation Loss: {:.3f}.. \".format(valid_loss/len(validloader)),\n",
    "                  \"Validation Accuracy: {:.3f}\".format(accuracy/len(validloader)))\n",
    "\n",
    "            running_loss = 0\n",
    "\n",
    "            # Make sure dropout is on for training\n",
    "            model.train()\n",
    "\n",
    "print(\"step complete\")"
   ]
  },
  {
   "cell_type": "markdown",
   "metadata": {},
   "source": [
    "## Testing your network\n",
    "\n",
    "It's good practice to test your trained network on test data, images the network has never seen either in training or validation. This will give you a good estimate for the model's performance on completely new images. Run the test images through the network and measure the accuracy, the same way you did validation. You should be able to reach around 70% accuracy on the test set if the model has been trained well."
   ]
  },
  {
   "cell_type": "code",
   "execution_count": 44,
   "metadata": {},
   "outputs": [
    {
     "name": "stderr",
     "output_type": "stream",
     "text": [
      "/opt/conda/lib/python3.6/site-packages/ipykernel_launcher.py:23: UserWarning: invalid index of a 0-dim tensor. This will be an error in PyTorch 0.5. Use tensor.item() to convert a 0-dim tensor to a Python number\n"
     ]
    },
    {
     "name": "stdout",
     "output_type": "stream",
     "text": [
      "Test Loss: 1.074..  Test Accuracy: 0.704\n",
      "step complete\n"
     ]
    }
   ],
   "source": [
    "test_loss = 0\n",
    "accuracy = 0\n",
    "\n",
    "model.eval()\n",
    "\n",
    "for ii, (images, labels) in enumerate(testloader):\n",
    "    # Volatile no longer working on PyTorch 0.4\n",
    "    images = Variable(images)\n",
    "    labels = Variable(labels)\n",
    "\n",
    "    # Load to GPU if available\n",
    "    if cuda:\n",
    "        images = images.cuda()\n",
    "        labels = labels.cuda()\n",
    "    else:\n",
    "        images = images.cpu()\n",
    "        labels = labels.cpu()\n",
    "\n",
    "    # Run FeedFordward on validation dataset, resulting in outputs\n",
    "    output = model.forward(images)\n",
    "\n",
    "    # Calculate test losses, diff of outputs and labels\n",
    "    test_loss += criterion(output, labels).data[0]\n",
    "\n",
    "    # Model's output is log-softmax, take exp to get the prob's\n",
    "    ps = torch.exp(output).data\n",
    "    \n",
    "    # Class with highest probability is our predicted class,\n",
    "    # compare with true label, results in boolean integer\n",
    "    equality = (labels.data == ps.max(1)[1])\n",
    "    \n",
    "    # Accuracy is number of correct predictions divided by all\n",
    "    # predictions, just take the mean, first float boolean integer\n",
    "    accuracy += equality.type_as(torch.FloatTensor()).mean()\n",
    "\n",
    "print('Test Loss: {:.3f}.. '.format(test_loss/len(testloader)),\n",
    "      'Test Accuracy: {:.3f}'.format(accuracy/len(testloader)))\n",
    "\n",
    "print(\"step complete\")"
   ]
  },
  {
   "cell_type": "markdown",
   "metadata": {},
   "source": [
    "## Save the checkpoint\n",
    "\n",
    "Now that your network is trained, save the model so you can load it later for making predictions. You probably want to save other things such as the mapping of classes to indices which you get from one of the image datasets: `image_datasets['train'].class_to_idx`. You can attach this to the model as an attribute which makes inference easier later on.\n",
    "\n",
    "```model.class_to_idx = image_datasets['train'].class_to_idx```\n",
    "\n",
    "Remember that you'll want to completely rebuild the model later so you can use it for inference. Make sure to include any information you need in the checkpoint. If you want to load the model and keep training, you'll want to save the number of epochs as well as the optimizer state, `optimizer.state_dict`. You'll likely want to use this trained model in the next part of the project, so best to save it now."
   ]
  },
  {
   "cell_type": "code",
   "execution_count": 45,
   "metadata": {},
   "outputs": [],
   "source": [
    "model.class_to_idx = train_data.class_to_idx\n",
    "model.cpu()\n",
    "\n",
    "def store_checkpoint(filepath='checkpoint.pth',model,hidden_units,optimizer,epochs):\n",
    "    \n",
    "    checkpoint = {'arch': 'vgg16',\n",
    "                  'hidden_units': hidden_units,\n",
    "                  'state_dict': model.state_dict(),\n",
    "                  'class_to_idx': model.class_to_idx(),\n",
    "                  'classifier': model.classifier(),\n",
    "                  'optimizer': optimizer.state_dict(),\n",
    "                  'epochs': epochs\n",
    "                 }\n",
    "\n",
    "    torch.save(checkpoint, filepath)"
   ]
  },
  {
   "cell_type": "markdown",
   "metadata": {},
   "source": [
    "## Loading the checkpoint\n",
    "\n",
    "At this point it's good to write a function that can load a checkpoint and rebuild the model. That way you can come back to this project and keep working on it without having to retrain the network."
   ]
  },
  {
   "cell_type": "code",
   "execution_count": 46,
   "metadata": {},
   "outputs": [],
   "source": [
    "def load_checkpoint(filepath='classifier.pth'):\n",
    "    checkpoint = torch.load(filepath)\n",
    "    \n",
    "    if checkpoint['arch'] == 'vgg16':\n",
    "        model = model.vgg16(pretrained=True)\n",
    "        for param in model.parameters():\n",
    "            param.requires_grad = False\n",
    "\n",
    "    model.class_to_idx = checkpoint['class_to_idx']\n",
    "    model.classifier = checkpoint['classifier']    \n",
    "    model.load_state_dict(checkpoint['state_dict'])\n",
    "\n",
    "    return model"
   ]
  },
  {
   "cell_type": "markdown",
   "metadata": {},
   "source": [
    "# Inference for classification\n",
    "\n",
    "Now you'll write a function to use a trained network for inference. That is, you'll pass an image into the network and predict the class of the flower in the image. Write a function called `predict` that takes an image and a model, then returns the top $K$ most likely classes along with the probabilities. It should look like \n",
    "\n",
    "```python\n",
    "probs, classes = predict(image_path, model)\n",
    "print(probs)\n",
    "print(classes)\n",
    "> [ 0.01558163  0.01541934  0.01452626  0.01443549  0.01407339]\n",
    "> ['70', '3', '45', '62', '55']\n",
    "```\n",
    "\n",
    "First you'll need to handle processing the input image such that it can be used in your network. \n",
    "\n",
    "## Image Preprocessing\n",
    "\n",
    "You'll want to use `PIL` to load the image ([documentation](https://pillow.readthedocs.io/en/latest/reference/Image.html)). It's best to write a function that preprocesses the image so it can be used as input for the model. This function should process the images in the same manner used for training. \n",
    "\n",
    "First, resize the images where the shortest side is 256 pixels, keeping the aspect ratio. This can be done with the [`thumbnail`](http://pillow.readthedocs.io/en/3.1.x/reference/Image.html#PIL.Image.Image.thumbnail) or [`resize`](http://pillow.readthedocs.io/en/3.1.x/reference/Image.html#PIL.Image.Image.thumbnail) methods. Then you'll need to crop out the center 224x224 portion of the image.\n",
    "\n",
    "Color channels of images are typically encoded as integers 0-255, but the model expected floats 0-1. You'll need to convert the values. It's easiest with a Numpy array, which you can get from a PIL image like so `np_image = np.array(pil_image)`.\n",
    "\n",
    "As before, the network expects the images to be normalized in a specific way. For the means, it's `[0.485, 0.456, 0.406]` and for the standard deviations `[0.229, 0.224, 0.225]`. You'll want to subtract the means from each color channel, then divide by the standard deviation. \n",
    "\n",
    "And finally, PyTorch expects the color channel to be the first dimension but it's the third dimension in the PIL image and Numpy array. You can reorder dimensions using [`ndarray.transpose`](https://docs.scipy.org/doc/numpy-1.13.0/reference/generated/numpy.ndarray.transpose.html). The color channel needs to be first and retain the order of the other two dimensions."
   ]
  },
  {
   "cell_type": "code",
   "execution_count": 47,
   "metadata": {},
   "outputs": [],
   "source": [
    "def process_image(filepath):\n",
    "    # Scales, crops, and normalizes a PIL image for a PyTorch model,\n",
    "    # returns an Numpy array\n",
    "        \n",
    "    # Open image\n",
    "    img = Image.open(filepath)\n",
    "    \n",
    "    # Scale image\n",
    "    ratio = img.size[1] / img.size[0]\n",
    "    if ratio > 1:\n",
    "        new_x = 256\n",
    "        new_y = int(ratio * new_x)\n",
    "        img = img.resize((new_x, new_y))\n",
    "    else:\n",
    "        new_y = 256\n",
    "        new_x = int(new_y / ratio)\n",
    "        img = img.resize((new_x, new_y))\n",
    "    \n",
    "    # Crop image\n",
    "    half_the_width = img.size[0] / 2\n",
    "    half_the_height = img.size[1] / 2\n",
    "    cropped = img.crop(\n",
    "        (\n",
    "        half_the_width - 112,\n",
    "        half_the_height - 112,\n",
    "        half_the_width + 112,\n",
    "        half_the_height + 112\n",
    "        )\n",
    "                      )\n",
    "\n",
    "    np_image = np.array(cropped)\n",
    "    \n",
    "    # Normalize image\n",
    "    mean = np.array([0.485, 0.456, 0.406])\n",
    "    std = np.array([0.229, 0.224, 0.225])\n",
    "    np_image = (np_image/255 - np.array(mean)) / np.array(std)\n",
    "    np_image = np.transpose(np_image, (2, 0, 1))\n",
    "    \n",
    "    return torch.from_numpy(np_image).float() "
   ]
  },
  {
   "cell_type": "markdown",
   "metadata": {},
   "source": [
    "To check your work, the function below converts a PyTorch tensor and displays it in the notebook. If your `process_image` function works, running the output through this function should return the original image (except for the cropped out portions)."
   ]
  },
  {
   "cell_type": "code",
   "execution_count": 52,
   "metadata": {},
   "outputs": [],
   "source": [
    "def imshow(image, ax=None, title=None):\n",
    "    # Imshow for Tensor.\n",
    "    if ax is None:\n",
    "        fig, ax = plt.subplots()\n",
    "    \n",
    "    # PyTorch tensors assume the color channel is the first dimension\n",
    "    # but matplotlib assumes is the third dimension\n",
    "    image = image.numpy().transpose((1, 2, 0))\n",
    "    \n",
    "    # Undo preprocessing\n",
    "    mean = np.array([0.485, 0.456, 0.406])\n",
    "    std = np.array([0.229, 0.224, 0.225])\n",
    "    image = std * image + mean\n",
    "    \n",
    "    # Image needs to be clipped between 0 and 1 or it looks like noise when displayed\n",
    "    image = np.clip(image, 0, 1)\n",
    "    \n",
    "    ax.imshow(image)\n",
    "    \n",
    "    return ax"
   ]
  },
  {
   "cell_type": "markdown",
   "metadata": {},
   "source": [
    "## Class Prediction\n",
    "\n",
    "Once you can get images in the correct format, it's time to write a function for making predictions with your model. A common practice is to predict the top 5 or so (usually called top-$K$) most probable classes. You'll want to calculate the class probabilities then find the $K$ largest values.\n",
    "\n",
    "To get the top $K$ largest values in a tensor use [`x.topk(k)`](http://pytorch.org/docs/master/torch.html#torch.topk). This method returns both the highest `k` probabilities and the indices of those probabilities corresponding to the classes. You need to convert from these indices to the actual class labels using `class_to_idx` which hopefully you added to the model or from an `ImageFolder` you used to load the data ([see here](#Save-the-checkpoint)). Make sure to invert the dictionary so you get a mapping from index to class as well.\n",
    "\n",
    "Again, this method should take a path to an image and a model checkpoint, then return the probabilities and classes.\n",
    "\n",
    "```python\n",
    "probs, classes = predict(image_path, model)\n",
    "print(probs)\n",
    "print(classes)\n",
    "> [ 0.01558163  0.01541934  0.01452626  0.01443549  0.01407339]\n",
    "> ['70', '3', '45', '62', '55']\n",
    "```"
   ]
  },
  {
   "cell_type": "code",
   "execution_count": 61,
   "metadata": {},
   "outputs": [],
   "source": [
    "def predict(filepath, model, topk=5):\n",
    "    # Predict the class (or classes) of an image using a trained deep learning model.\n",
    "    model.cuda()\n",
    "    model.eval()\n",
    "    \n",
    "    image_pred = process_image(filepath)\n",
    "    image_pred = Variable(image_pred.unsqueeze_(0))\n",
    "    image_pred = image_pred.float()    \n",
    "    image_pred = image_pred.cuda()\n",
    "    \n",
    "    output = model.forward(image_pred)\n",
    "    ps = torch.exp(output)\n",
    "    prob, idx = ps.topk(topk)\n",
    "    \n",
    "    prob = prob.cpu().detach().numpy()[0]\n",
    "    idx = idx.cpu().detach().numpy()[0]\n",
    "\n",
    "    reversed_dict = {v: k for k, v in model.class_to_idx.items()}\n",
    "    idx_classes = [reversed_dict[index] for index in idx]\n",
    "    \n",
    "    return prob, idx_classes"
   ]
  },
  {
   "cell_type": "markdown",
   "metadata": {},
   "source": [
    "## Sanity Checking\n",
    "\n",
    "Now that you can use a trained model for predictions, check to make sure it makes sense. Even if the testing accuracy is high, it's always good to check that there aren't obvious bugs. Use `matplotlib` to plot the probabilities for the top 5 classes as a bar graph, along with the input image. It should look like this:\n",
    "\n",
    "<img src='assets/inference_example.png' width=300px>\n",
    "\n",
    "You can convert from the class integer encoding to actual flower names with the `cat_to_name.json` file (should have been loaded earlier in the notebook). To show a PyTorch tensor as an image, use the `imshow` function defined above."
   ]
  },
  {
   "cell_type": "code",
   "execution_count": 57,
   "metadata": {},
   "outputs": [
    {
     "name": "stdout",
     "output_type": "stream",
     "text": [
      "[ 0.32070982  0.21979222  0.07530577  0.05904575  0.05607286]\n",
      "[80 58 18 95  8]\n"
     ]
    },
    {
     "data": {
      "image/png": "[encoded data removed]",
      "text/plain": [
       "<matplotlib.figure.Figure at 0x7f12fe4e0390>"
      ]
     },
     "metadata": {},
     "output_type": "display_data"
    }
   ],
   "source": [
    "# EVALUATE MODEL after training, by plotting one predicted image\n",
    "# Now that the model is trained, we can use it for inference.\n",
    "# Remember to set the model in inference mode with model.eval().\n",
    "model.eval()\n",
    "\n",
    "# Image filepath\n",
    "filepath = (data_dir + '/test' + '/12/' + '/image_04012.jpg')\n",
    "\n",
    "# Process image using function\n",
    "img = process_image(filepath)\n",
    "\n",
    "# Print image\n",
    "imshow(img, ax = plt.subplot(2, 1, 1), title = None)\n",
    "\n",
    "# Calculate probabilities for Top 5 classes\n",
    "prob, idx = predict(filepath, model)\n",
    "\n",
    "print(prob)\n",
    "print(idx)\n",
    "\n",
    "y_pos = np.arange(len(prob))\n",
    "\n",
    "plt.subplot(2, 1, 2)\n",
    "plt.barh(y_pos, prob, align='center', alpha=0.5)\n",
    "plt.show()"
   ]
  }
 ],
 "metadata": {
  "kernelspec": {
   "display_name": "Python 3",
   "language": "python",
   "name": "python3"
  },
  "language_info": {
   "codemirror_mode": {
    "name": "ipython",
    "version": 3
   },
   "file_extension": ".py",
   "mimetype": "text/x-python",
   "name": "python",
   "nbconvert_exporter": "python",
   "pygments_lexer": "ipython3",
   "version": "3.6.3"
  }
 },
 "nbformat": 4,
 "nbformat_minor": 2
}
